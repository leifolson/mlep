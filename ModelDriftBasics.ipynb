{
  "nbformat": 4,
  "nbformat_minor": 0,
  "metadata": {
    "colab": {
      "provenance": [],
      "toc_visible": true,
      "authorship_tag": "ABX9TyNpvSubwEoQnTuV+y4mpCQD",
      "include_colab_link": true
    },
    "kernelspec": {
      "name": "python3",
      "display_name": "Python 3"
    },
    "language_info": {
      "name": "python"
    }
  },
  "cells": [
    {
      "cell_type": "markdown",
      "metadata": {
        "id": "view-in-github",
        "colab_type": "text"
      },
      "source": [
        "<a href=\"https://colab.research.google.com/github/leifolson/mlep/blob/main/ModelDriftBasics.ipynb\" target=\"_parent\"><img src=\"https://colab.research.google.com/assets/colab-badge.svg\" alt=\"Open In Colab\"/></a>"
      ]
    },
    {
      "cell_type": "markdown",
      "source": [
        "# Model Drift Basics\n",
        "Taking some time to explore some concepts in tracking various aspects of model drift."
      ],
      "metadata": {
        "id": "rwAdEsv9s3eE"
      }
    },
    {
      "cell_type": "code",
      "source": [
        "!pip install alibi -q\n",
        "!pip install alibi-detect -q"
      ],
      "metadata": {
        "id": "WkJiqXjztFBF"
      },
      "execution_count": 4,
      "outputs": []
    },
    {
      "cell_type": "code",
      "source": [
        "import alibi\n",
        "from alibi_detect.cd import TabularDrift\n",
        "from sklearn.datasets import load_wine\n",
        "from sklearn.model_selection import train_test_split"
      ],
      "metadata": {
        "id": "QCOgtnGutJy5"
      },
      "execution_count": 5,
      "outputs": []
    },
    {
      "cell_type": "markdown",
      "source": [
        "## Data Drift"
      ],
      "metadata": {
        "id": "30e1YaiwcKf5"
      }
    },
    {
      "cell_type": "code",
      "source": [
        "wine_data = load_wine()\n",
        "feature_names = wine_data.feature_names\n",
        "X, y = wine_data.data, wine_data.target"
      ],
      "metadata": {
        "id": "em7GcraGtU52"
      },
      "execution_count": 7,
      "outputs": []
    },
    {
      "cell_type": "code",
      "source": [
        "Xref, Xtest, yref, ytest = train_test_split(X, y, test_size=.5, random_state=42)"
      ],
      "metadata": {
        "id": "HriobzpvbSdg"
      },
      "execution_count": 8,
      "outputs": []
    },
    {
      "cell_type": "code",
      "source": [
        "cd = TabularDrift(x_ref=Xref, p_val=.05)"
      ],
      "metadata": {
        "colab": {
          "base_uri": "https://localhost:8080/"
        },
        "id": "EDgxNQPJbkTl",
        "outputId": "19dfa1a9-f352-42a2-c7e5-995b7c0c21f6"
      },
      "execution_count": 10,
      "outputs": [
        {
          "output_type": "stream",
          "name": "stderr",
          "text": [
            "/usr/local/lib/python3.10/dist-packages/alibi_detect/cd/tabular.py:113: UserWarning: No `categories_per_feature` dict provided so all features are assumed to be numerical. `KSDrift` will be applied to all features.\n",
            "  warnings.warn('No `categories_per_feature` dict provided so all features are assumed to be numerical. '\n"
          ]
        }
      ]
    },
    {
      "cell_type": "code",
      "source": [
        "drift_pred = cd.predict(Xtest)['data']['is_drift']"
      ],
      "metadata": {
        "id": "We7kC3SQb7zi"
      },
      "execution_count": 15,
      "outputs": []
    },
    {
      "cell_type": "code",
      "source": [
        "print('Drift: {}'.format('Yes' if drift_pred == 1 else 'No'))"
      ],
      "metadata": {
        "colab": {
          "base_uri": "https://localhost:8080/"
        },
        "id": "0vwsakMFcSCx",
        "outputId": "7d649029-3fd9-4568-b49b-47301030d23a"
      },
      "execution_count": 16,
      "outputs": [
        {
          "output_type": "stream",
          "name": "stdout",
          "text": [
            "Drift: No\n"
          ]
        }
      ]
    },
    {
      "cell_type": "markdown",
      "source": [
        "So no drift has been found between the reference and test data.  Which is to say they don't have a significantly different distribution of values.\n",
        "\n",
        "Let's mess with the data a bit to see what happens."
      ],
      "metadata": {
        "id": "RjHDL6aicSqF"
      }
    },
    {
      "cell_type": "code",
      "source": [
        "Xtest_scaled = 1.2*Xtest\n",
        "drift_pred = cd.predict(Xtest_scaled)['data']['is_drift']"
      ],
      "metadata": {
        "id": "WV5jBATsc0pg"
      },
      "execution_count": 17,
      "outputs": []
    },
    {
      "cell_type": "code",
      "source": [
        "print('Drift: {}'.format('Yes' if drift_pred == 1 else 'No'))"
      ],
      "metadata": {
        "colab": {
          "base_uri": "https://localhost:8080/"
        },
        "id": "JgM_2moYdMIL",
        "outputId": "0f882ed0-cb0d-445d-81d3-ed1abdaa2ee1"
      },
      "execution_count": 18,
      "outputs": [
        {
          "output_type": "stream",
          "name": "stdout",
          "text": [
            "Drift: Yes\n"
          ]
        }
      ]
    },
    {
      "cell_type": "markdown",
      "source": [
        "We can see that the shift in values has been identified as data drift."
      ],
      "metadata": {
        "id": "yIOa43VEdMWU"
      }
    },
    {
      "cell_type": "markdown",
      "source": [
        "## Concept Drift"
      ],
      "metadata": {
        "id": "R6UAUXIldfWj"
      }
    },
    {
      "cell_type": "code",
      "source": [
        "from alibi_detect.cd import MMDDriftOnline"
      ],
      "metadata": {
        "id": "B2RMFnkBeO6c"
      },
      "execution_count": 22,
      "outputs": []
    },
    {
      "cell_type": "code",
      "source": [
        "ert = 50 # expected run time\n",
        "window_size = 10\n",
        "cd = MMDDriftOnline(Xref, ert, window_size, backend='tensorflow', n_bootstraps=2500)"
      ],
      "metadata": {
        "colab": {
          "base_uri": "https://localhost:8080/"
        },
        "id": "N0ADEFAph0a9",
        "outputId": "a62db9a0-8561-414c-c61d-06abdaf6985d"
      },
      "execution_count": 30,
      "outputs": [
        {
          "output_type": "stream",
          "name": "stdout",
          "text": [
            "Generating permutations of kernel matrix..\n"
          ]
        },
        {
          "output_type": "stream",
          "name": "stderr",
          "text": [
            "100%|██████████| 2500/2500 [00:00<00:00, 3462.04it/s]\n",
            "Computing thresholds: 100%|██████████| 10/10 [01:00<00:00,  6.01s/it]\n"
          ]
        }
      ]
    },
    {
      "cell_type": "markdown",
      "source": [
        "Simulating online data coming in with data we already have in hand"
      ],
      "metadata": {
        "id": "FyQWX5AUjs-f"
      }
    },
    {
      "cell_type": "code",
      "source": [
        "preds = [cd.predict(Xref[i,:]) for i in range(Xref.shape[0])]\n",
        "driftvals = [p['data']['is_drift'] for p in preds]"
      ],
      "metadata": {
        "id": "ehvOt7nJkLfB"
      },
      "execution_count": 34,
      "outputs": []
    },
    {
      "cell_type": "code",
      "source": [
        "import numpy as np\n",
        "import matplotlib.pyplot as plt"
      ],
      "metadata": {
        "id": "PzyJnlqtkUUJ"
      },
      "execution_count": 43,
      "outputs": []
    },
    {
      "cell_type": "code",
      "source": [
        "# plot:\n",
        "fig, ax = plt.subplots()\n",
        "\n",
        "drift_events = [i for i in range(len(driftvals)) if driftvals[i] == 1]\n",
        "ax.eventplot(drift_events, orientation=\"horizontal\", linewidth=0.75)\n",
        "ax.axhline(1, color='k')\n",
        "ax.set(xlim=(0, len(driftvals)))\n",
        "ax.set_title('Drift Events')\n",
        "ax.set_xlabel('Timestep')\n",
        "plt.yticks([])\n",
        "plt.show()"
      ],
      "metadata": {
        "colab": {
          "base_uri": "https://localhost:8080/",
          "height": 472
        },
        "id": "7EV2WJp_m6w6",
        "outputId": "5943f9b5-a4e3-48ea-866e-c38072c7b39c"
      },
      "execution_count": 77,
      "outputs": [
        {
          "output_type": "display_data",
          "data": {
            "text/plain": [
              "<Figure size 640x480 with 1 Axes>"
            ],
            "image/png": "[encoded data removed]"
          },
          "metadata": {}
        }
      ]
    },
    {
      "cell_type": "code",
      "source": [],
      "metadata": {
        "id": "zeKxrZZvpwT9"
      },
      "execution_count": null,
      "outputs": []
    }
  ]
}